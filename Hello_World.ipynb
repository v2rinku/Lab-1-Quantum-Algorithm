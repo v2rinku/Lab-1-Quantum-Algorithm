{
  "cells": [
    {
      "cell_type": "markdown",
      "metadata": {
        "id": "view-in-github",
        "colab_type": "text"
      },
      "source": [
        "<a href=\"https://colab.research.google.com/github/v2rinku/Lab-1-Quantum-Algorithm/blob/main/Hello_World.ipynb\" target=\"_parent\"><img src=\"https://colab.research.google.com/assets/colab-badge.svg\" alt=\"Open In Colab\"/></a>"
      ]
    },
    {
      "cell_type": "markdown",
      "metadata": {
        "id": "56FggLejUda6"
      },
      "source": [
        "### Coding with Qiskit\n",
        "\n",
        "# Hello World!"
      ]
    },
    {
      "cell_type": "markdown",
      "metadata": {
        "id": "l_U09QqIUda7"
      },
      "source": [
        "=\n",
        "The application first entangled two qubits which were initially in the state $\\vert00\\rangle$. Then, we noted the results by running the application on a simulator as well as real quantum hardware at IBM.\n",
        "\n",
        "This Jupyter notebook shows the code that was used in the video, as well as updates in the latest version of Qiskit.\n",
        "\n",
        "**Link to Episode 3:** https://www.youtube.com/watch?v=RrUTwq5jKM4"
      ]
    },
    {
      "cell_type": "markdown",
      "metadata": {
        "id": "d-pqxUK-Uda8"
      },
      "source": [
        "# Building the circuit"
      ]
    },
    {
      "cell_type": "markdown",
      "metadata": {
        "id": "HRu09lACUda8"
      },
      "source": [
        "We begin by importing Qiskit."
      ]
    },
    {
      "cell_type": "code",
      "source": [
        "!pip install qiskit qiskit_aer matplotlib pylatexenc qiskit_ibm_runtime\n"
      ],
      "metadata": {
        "id": "G3sn7p47UwKp"
      },
      "execution_count": null,
      "outputs": []
    },
    {
      "cell_type": "code",
      "execution_count": 1,
      "metadata": {
        "id": "BmiyCxuQUda8"
      },
      "outputs": [],
      "source": [
        "from qiskit import *"
      ]
    },
    {
      "cell_type": "markdown",
      "metadata": {
        "id": "Sg4KfDTSUda8"
      },
      "source": [
        "In the video, we initialized two qubits into a `QuantumRegister` and two classical bits into a `ClassicalRegister` by writing"
      ]
    },
    {
      "cell_type": "code",
      "execution_count": 2,
      "metadata": {
        "id": "E8oyzSNqUda8"
      },
      "outputs": [],
      "source": [
        "qr = QuantumRegister(2)\n",
        "cr = ClassicalRegister(2)"
      ]
    },
    {
      "cell_type": "markdown",
      "metadata": {
        "id": "AR0K5qlzUda8"
      },
      "source": [
        "Then we built a `QuantumCircuit` composed of the two classical and quantum bits by saying"
      ]
    },
    {
      "cell_type": "code",
      "execution_count": 3,
      "metadata": {
        "id": "w35Im6lyUda9"
      },
      "outputs": [],
      "source": [
        "circuit = QuantumCircuit(qr, cr)"
      ]
    },
    {
      "cell_type": "markdown",
      "metadata": {
        "id": "FuPTJFdNUda9"
      },
      "source": [
        "The above three lines of code can be simplified into one line by writing"
      ]
    },
    {
      "cell_type": "code",
      "execution_count": 4,
      "metadata": {
        "id": "7p64dRoLUda9"
      },
      "outputs": [],
      "source": [
        "circuit = QuantumCircuit(2,2)"
      ]
    },
    {
      "cell_type": "markdown",
      "metadata": {
        "id": "htokmGXSUda9"
      },
      "source": [
        "where the first argument is the number of quantum bits, and the second argument is the number of classical bits. This is the recommended way of creating circuits."
      ]
    },
    {
      "cell_type": "markdown",
      "metadata": {
        "id": "pfca5YOWUda9"
      },
      "source": [
        "Once you create your circuit, you can draw it at any point by writing"
      ]
    },
    {
      "cell_type": "code",
      "execution_count": 5,
      "metadata": {
        "colab": {
          "base_uri": "https://localhost:8080/",
          "height": 125
        },
        "id": "ebWOzU9iUda9",
        "outputId": "763cc904-921a-4ea1-ff37-425cbbe3864f"
      },
      "outputs": [
        {
          "output_type": "execute_result",
          "data": {
            "text/plain": [
              "     \n",
              "q_0: \n",
              "     \n",
              "q_1: \n",
              "     \n",
              "c: 2/\n",
              "     "
            ],
            "text/html": [
              "<pre style=\"word-wrap: normal;white-space: pre;background: #fff0;line-height: 1.1;font-family: &quot;Courier New&quot;,Courier,monospace\">     \n",
              "q_0: \n",
              "     \n",
              "q_1: \n",
              "     \n",
              "c: 2/\n",
              "     </pre>"
            ]
          },
          "metadata": {},
          "execution_count": 5
        }
      ],
      "source": [
        "circuit.draw()"
      ]
    },
    {
      "cell_type": "markdown",
      "metadata": {
        "id": "wsQO6_1jUda9"
      },
      "source": [
        "For a plot based on `matplotlib`, use instead"
      ]
    },
    {
      "cell_type": "code",
      "execution_count": 6,
      "metadata": {
        "colab": {
          "base_uri": "https://localhost:8080/",
          "height": 255
        },
        "id": "Sr01H5DpUda9",
        "outputId": "9e586008-827c-4741-eab7-9a648117cd31"
      },
      "outputs": [
        {
          "output_type": "execute_result",
          "data": {
            "text/plain": [
              "<Figure size 161.878x284.278 with 1 Axes>"
            ],
            "image/png": "[encoded data removed]"
          },
          "metadata": {},
          "execution_count": 6
        }
      ],
      "source": [
        "%matplotlib inline\n",
        "circuit.draw(output='mpl')"
      ]
    },
    {
      "cell_type": "markdown",
      "metadata": {
        "id": "-4BewsAOUda9"
      },
      "source": [
        "Note that you only need to run the `%matplotlib inline` command once in your notebook."
      ]
    },
    {
      "cell_type": "markdown",
      "metadata": {
        "id": "UBXSp5tTUda9"
      },
      "source": [
        "Next, let's add the gates."
      ]
    },
    {
      "cell_type": "code",
      "execution_count": 7,
      "metadata": {
        "colab": {
          "base_uri": "https://localhost:8080/",
          "height": 255
        },
        "id": "MXKrDLlSUda9",
        "outputId": "dafb46ab-bd33-4aee-d3bb-886cfa81d2ca"
      },
      "outputs": [
        {
          "output_type": "execute_result",
          "data": {
            "text/plain": [
              "<Figure size 454.517x284.278 with 1 Axes>"
            ],
            "image/png": "[encoded data removed]"
          },
          "metadata": {},
          "execution_count": 7
        }
      ],
      "source": [
        "# the quantum circuit has two qubits. they are indexed as qubits 0 and 1\n",
        "circuit.h(0)\n",
        "circuit.cx(0,1) # order is control, target\n",
        "circuit.measure([0,1], [0,1]) # qubits [0,1] are measured and results are stored in classical bits [0,1] in order\n",
        "circuit.draw(output='mpl')"
      ]
    },
    {
      "cell_type": "markdown",
      "metadata": {
        "id": "Lzx8P5vFUda-"
      },
      "source": [
        "# Running on a simulator"
      ]
    },
    {
      "cell_type": "markdown",
      "metadata": {
        "id": "SxZyGfGQUda-"
      },
      "source": [
        "We begin by setting the simulator to `qasm_simulator` from the Aer element of Qiskit."
      ]
    },
    {
      "cell_type": "code",
      "execution_count": 8,
      "metadata": {
        "id": "4Y7tUuxhUda-"
      },
      "outputs": [],
      "source": [
        "from qiskit_aer import  Aer, QasmSimulator\n",
        "backend = QasmSimulator()\n",
        "qc_compiled = transpile(circuit, backend)\n"
      ]
    },
    {
      "cell_type": "markdown",
      "metadata": {
        "id": "lnBb11iBUda-"
      },
      "source": [
        "Then, we execute the circuit on the simulator and store the results in a variable called `result`."
      ]
    },
    {
      "cell_type": "code",
      "execution_count": 9,
      "metadata": {
        "colab": {
          "base_uri": "https://localhost:8080/"
        },
        "id": "A_qGtN9-Uda-",
        "outputId": "c5e81d6f-65a9-415b-ce38-803b69d10f7c"
      },
      "outputs": [
        {
          "output_type": "stream",
          "name": "stdout",
          "text": [
            "{'11': 49, '00': 51}\n"
          ]
        }
      ],
      "source": [
        "job_sim = backend.run(circuit, shots=100)\n",
        "result = job_sim.result()\n",
        "counts = result.get_counts(circuit)\n",
        "print(counts)"
      ]
    },
    {
      "cell_type": "markdown",
      "metadata": {
        "id": "Zc-pcO3CUda-"
      },
      "source": [
        "At this point, we are ready to plot the results of the simulator execution. To do this, first import the visualization tools from Qiskit using"
      ]
    },
    {
      "cell_type": "code",
      "execution_count": 10,
      "metadata": {
        "id": "y-FXV_rTUda-"
      },
      "outputs": [],
      "source": [
        "from qiskit.visualization import plot_histogram"
      ]
    },
    {
      "cell_type": "markdown",
      "metadata": {
        "id": "XEThGHJeUda-"
      },
      "source": [
        "Then, we plot the results using"
      ]
    },
    {
      "cell_type": "code",
      "execution_count": 11,
      "metadata": {
        "colab": {
          "base_uri": "https://localhost:8080/",
          "height": 487
        },
        "id": "q-HurwwbUda-",
        "outputId": "ceae97ba-0796-4799-cf97-4bf98cabc925"
      },
      "outputs": [
        {
          "output_type": "execute_result",
          "data": {
            "text/plain": [
              "<Figure size 640x480 with 1 Axes>"
            ],
            "image/png": "[encoded data removed]"
          },
          "metadata": {},
          "execution_count": 11
        }
      ],
      "source": [
        "plot_histogram(result.get_counts(circuit))"
      ]
    },
    {
      "cell_type": "markdown",
      "metadata": {
        "id": "UFiriv8wUda-"
      },
      "source": [
        "# Running on real quantum hardware"
      ]
    },
    {
      "cell_type": "markdown",
      "metadata": {
        "id": "sygucnSqUda-"
      },
      "source": [
        "In order to run the circuit on real quantum hardware at IBM, we begin by loading our saved IBMQ account using"
      ]
    },
    {
      "cell_type": "code",
      "source": [
        "from qiskit_ibm_runtime import QiskitRuntimeService\n",
        "QiskitRuntimeService.save_account(\n",
        "    channel=\"ibm_cloud\",\n",
        "    token=\"token\",\n",
        "    set_as_default=True,\n",
        "    overwrite=True\n",
        "\n",
        ")\n",
        "\n",
        "service = QiskitRuntimeService(\"ibm_cloud\")\n",
        "print(service.backends())\n",
        ""
      ],
      "metadata": {
        "colab": {
          "base_uri": "https://localhost:8080/"
        },
        "id": "JS0wI-KkaXJL",
        "outputId": "1de2fbae-6db5-4d09-b72a-ae776b2468b5"
      },
      "execution_count": 47,
      "outputs": [
        {
          "output_type": "stream",
          "name": "stderr",
          "text": [
            "qiskit_runtime_service._resolve_cloud_instances:WARNING:2025-07-09 18:39:13,687: Default instance not set. Searching all available instances.\n",
            "qiskit_runtime_service._resolve_cloud_instances:WARNING:2025-07-09 18:39:14,422: Default instance not set. Searching all available instances.\n"
          ]
        },
        {
          "output_type": "stream",
          "name": "stdout",
          "text": [
            "[]\n"
          ]
        }
      ]
    },
    {
      "cell_type": "code",
      "source": [],
      "metadata": {
        "id": "fGTvTJ1uYRxG"
      },
      "execution_count": null,
      "outputs": []
    },
    {
      "cell_type": "markdown",
      "metadata": {
        "id": "il-mbnYtUda_"
      },
      "source": [
        "Once the backend is selected, we are ready to run the circuit just as before using the `execute` function. Before doing so, a useful feature is to run the job watcher that is available in the latest version of Qiskit using"
      ]
    },
    {
      "cell_type": "markdown",
      "metadata": {
        "id": "JdofgrDSUdbC"
      },
      "source": [
        "# References"
      ]
    },
    {
      "cell_type": "markdown",
      "metadata": {
        "id": "wH3pBGx6UdbD"
      },
      "source": [
        "For detailed information about Qiskit, check out the tutorials in the Github repository:\n",
        "\n",
        "https://github.com/Qiskit/qiskit-iqx-tutorials"
      ]
    }
  ],
  "metadata": {
    "kernelspec": {
      "display_name": "Python 3",
      "language": "python",
      "name": "python3"
    },
    "language_info": {
      "codemirror_mode": {
        "name": "ipython",
        "version": 3
      },
      "file_extension": ".py",
      "mimetype": "text/x-python",
      "name": "python",
      "nbconvert_exporter": "python",
      "pygments_lexer": "ipython3",
      "version": "3.7.3"
    },
    "colab": {
      "provenance": [],
      "include_colab_link": true
    }
  },
  "nbformat": 4,
  "nbformat_minor": 0
}